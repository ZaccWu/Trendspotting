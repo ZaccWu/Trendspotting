{
 "cells": [
  {
   "cell_type": "code",
   "execution_count": 1,
   "id": "1be7cf7e",
   "metadata": {},
   "outputs": [],
   "source": [
    "import pandas as pd\n",
    "import numpy as np\n",
    "import matplotlib.pyplot as plt"
   ]
  },
  {
   "cell_type": "markdown",
   "source": [
    "## Load Ali Data"
   ],
   "metadata": {
    "collapsed": false,
    "pycharm": {
     "name": "#%% md\n"
    }
   }
  },
  {
   "cell_type": "code",
   "execution_count": 3,
   "outputs": [
    {
     "name": "stdout",
     "output_type": "stream",
     "text": [
      "(9916, 97, 12)\n"
     ]
    }
   ],
   "source": [
    "dv = np.load('data/dv_count2.npy', allow_pickle=True)\n",
    "print(dv.shape)"
   ],
   "metadata": {
    "collapsed": false,
    "pycharm": {
     "name": "#%%\n"
    }
   }
  },
  {
   "cell_type": "code",
   "execution_count": 4,
   "outputs": [
    {
     "data": {
      "text/plain": "array([[['217617880515', '20230910', '70', ..., '14', '0', '46'],\n        ['217617880515', '20230808', '0', ..., '0', '0', '0'],\n        ['217617880515', '20230731', '0', ..., '0', '0', '0'],\n        ...,\n        ['217617880515', '20230629', '0', ..., '0', '0', '0'],\n        ['217617880515', '20230730', '0', ..., '0', '0', '0'],\n        ['217617880515', '20230712', '0', ..., '0', '0', '0']],\n\n       [['218304415675', '20230617', '0', ..., '0', '0', '27'],\n        ['218304415675', '20230729', '0', ..., '0', '0', '12'],\n        ['218304415675', '20230907', '0', ..., '0', '0', '13'],\n        ...,\n        ['218304415675', '20230827', '0', ..., '0', '0', '27'],\n        ['218304415675', '20230810', '0', ..., '0', '0', '21'],\n        ['218304415675', '20230917', '1', ..., '0', '0', '40']],\n\n       [['218598380456', '20230623', '0', ..., '0', '0', '4279'],\n        ['218598380456', '20230728', '0', ..., '0', '0', '11767'],\n        ['218598380456', '20230729', '3', ..., '2', '0', '10870'],\n        ...,\n        ['218598380456', '20230911', '0', ..., '0', '0', '139'],\n        ['218598380456', '20230701', '1', ..., '1', '0', '3325'],\n        ['218598380456', '20230812', '1', ..., '1', '0', '29']],\n\n       ...,\n\n       [['372750828120', '20230916', '6', ..., '4', '0', '36'],\n        ['372750828120', '20230911', '16', ..., '5', '0', '54'],\n        ['372750828120', '20230710', '19', ..., '16', '0', '96'],\n        ...,\n        ['372750828120', '20230915', '6', ..., '3', '1', '31'],\n        ['372750828120', '20230810', '38', ..., '13', '2', '67'],\n        ['372750828120', '20230726', '30', ..., '9', '1', '49']],\n\n       [['372750840321', '20230716', '8', ..., '3', '0', '97'],\n        ['372750840321', '20230619', '14', ..., '3', '0', '104'],\n        ['372750840321', '20230820', '23', ..., '4', '1', '183'],\n        ...,\n        ['372750840321', '20230703', '9', ..., '1', '0', '157'],\n        ['372750840321', '20230620', '12', ..., '2', '0', '111'],\n        ['372750840321', '20230812', '23', ..., '10', '2', '292']],\n\n       [['372751776786', '20230807', '25', ..., '4', '0', '24'],\n        ['372751776786', '20230624', '39', ..., '3', '0', '44'],\n        ['372751776786', '20230721', '31', ..., '1', '0', '32'],\n        ...,\n        ['372751776786', '20230709', '38', ..., '3', '0', '38'],\n        ['372751776786', '20230906', '0', ..., '0', '0', '0'],\n        ['372751776786', '20230825', '0', ..., '0', '0', '0']]],\n      dtype=object)"
     },
     "execution_count": 4,
     "metadata": {},
     "output_type": "execute_result"
    }
   ],
   "source": [
    "dv"
   ],
   "metadata": {
    "collapsed": false,
    "pycharm": {
     "name": "#%%\n"
    }
   }
  },
  {
   "cell_type": "code",
   "execution_count": 6,
   "outputs": [],
   "source": [
    "# accroding to 'consume_uv_1d' to define blockblusters\n",
    "num_content = dv.shape[0]\n",
    "x_list, y_list = [], []\n",
    "for j in range(num_content):\n",
    "    y = dv[j,:,:]\n",
    "    fea = y[np.argsort(y[:,1])][:,2:]  # (time_step, fea_dim), remove 'content_id', 'visite_time'\n",
    "    for day in range(30, 89):\n",
    "        fea = fea.astype(np.float64)\n",
    "        y_past = fea[day-3:day,-1]\n",
    "        y_head = fea[day:day+3,-1]\n",
    "        if np.sum(y_past)==0:\n",
    "            y = 0\n",
    "        else:\n",
    "            y = np.sum(y_head)/np.sum(y_past)\n",
    "        tr_fea = fea[day-30:day,:].T # -> (fea_dim, K)\n",
    "        y_inc = 0 if y<=2.21 else 1\n",
    "        x_list.append(tr_fea)\n",
    "        y_list.append(y_inc)\n",
    "\n",
    "x_list, y_list = np.array(x_list), np.array(y_list) # (585044, 10, 30), (585004, )"
   ],
   "metadata": {
    "collapsed": false,
    "pycharm": {
     "name": "#%%\n"
    }
   }
  },
  {
   "cell_type": "code",
   "execution_count": 7,
   "outputs": [
    {
     "name": "stdout",
     "output_type": "stream",
     "text": [
      "(16413, 10, 30) (568631, 10, 30)\n"
     ]
    }
   ],
   "source": [
    "t1_idx, t0_idx = np.nonzero(y_list), np.nonzero(1-y_list) # explosive, not explosive\n",
    "x1_list, x0_list = x_list[t1_idx], x_list[t0_idx]\n",
    "print(x1_list.shape, x0_list.shape)"
   ],
   "metadata": {
    "collapsed": false,
    "pycharm": {
     "name": "#%%\n"
    }
   }
  },
  {
   "cell_type": "markdown",
   "source": [
    "## Analyze the Basic Patterns of Blockbuster"
   ],
   "metadata": {
    "collapsed": false,
    "pycharm": {
     "name": "#%% md\n"
    }
   }
  },
  {
   "cell_type": "code",
   "execution_count": 12,
   "outputs": [
    {
     "name": "stdout",
     "output_type": "stream",
     "text": [
      "Mean of click_uv_1d:         y0: 17.002 (94.132)  y1: 11.495 (123.418)\n",
      "Mean of consume_uv_1d_valid: y0: 42.211 (534.310)  y1: 34.317 (631.915)\n",
      "Mean of favor_uv_1d:         y0: 0.372 (11.304)  y1: 0.887 (18.965)\n",
      "Mean of comment_uv_1d:       y0: 0.006 (0.164)  y1: 0.008 (0.302)\n",
      "Mean of share_uv_1d:         y0: 0.055 (0.740)  y1: 0.056 (1.310)\n",
      "Mean of collect_uv_1d:       y0: 0.138 (1.219)  y1: 0.126 (1.829)\n",
      "Mean of attention_uv_1d:     y0: 0.063 (0.813)  y1: 0.055 (1.299)\n",
      "Mean of lead_shop_uv_1d:     y0: 6.409 (28.884)  y1: 2.816 (13.789)\n",
      "Mean of cart_uv_1d:          y0: 0.695 (3.233)  y1: 0.274 (1.635)\n",
      "Mean of consume_uv_1d:       y0: 72.307 (1008.339)  y1: 61.410 (1176.040)\n"
     ]
    }
   ],
   "source": [
    "# 10 columns: ['click_uv_1d', 'consume_uv_1d_valid', 'favor_uv_1d', 'comment_uv_1d',\n",
    "#           'share_uv_1d', 'collect_uv_1d', 'attention_uv_1d', 'lead_shop_uv_1d', 'cart_uv_1d', 'consume_uv_1d']\n",
    "\n",
    "# sample averages (all samples in 30 day time window) y=1 vs. y=0\n",
    "print(\"Mean of click_uv_1d:         y0: {:.3f} ({:.3f})  y1: {:.3f} ({:.3f})\".format(np.mean(x0_list[:,0,:]), np.std(x0_list[:,0,:]), np.mean(x1_list[:,0,:]), np.std(x1_list[:,0,:])))\n",
    "print(\"Mean of consume_uv_1d_valid: y0: {:.3f} ({:.3f})  y1: {:.3f} ({:.3f})\".format(np.mean(x0_list[:,1,:]), np.std(x0_list[:,1,:]), np.mean(x1_list[:,1,:]), np.std(x1_list[:,1,:])))\n",
    "print(\"Mean of favor_uv_1d:         y0: {:.3f} ({:.3f})  y1: {:.3f} ({:.3f})\".format(np.mean(x0_list[:,2,:]), np.std(x0_list[:,2,:]), np.mean(x1_list[:,2,:]), np.std(x1_list[:,2,:])))\n",
    "print(\"Mean of comment_uv_1d:       y0: {:.3f} ({:.3f})  y1: {:.3f} ({:.3f})\".format(np.mean(x0_list[:,3,:]), np.std(x0_list[:,3,:]), np.mean(x1_list[:,3,:]), np.std(x1_list[:,3,:])))\n",
    "print(\"Mean of share_uv_1d:         y0: {:.3f} ({:.3f})  y1: {:.3f} ({:.3f})\".format(np.mean(x0_list[:,4,:]), np.std(x0_list[:,4,:]), np.mean(x1_list[:,4,:]), np.std(x1_list[:,4,:])))\n",
    "print(\"Mean of collect_uv_1d:       y0: {:.3f} ({:.3f})  y1: {:.3f} ({:.3f})\".format(np.mean(x0_list[:,5,:]), np.std(x0_list[:,5,:]), np.mean(x1_list[:,5,:]), np.std(x1_list[:,5,:])))\n",
    "print(\"Mean of attention_uv_1d:     y0: {:.3f} ({:.3f})  y1: {:.3f} ({:.3f})\".format(np.mean(x0_list[:,6,:]), np.std(x0_list[:,6,:]), np.mean(x1_list[:,6,:]), np.std(x1_list[:,6,:])))\n",
    "print(\"Mean of lead_shop_uv_1d:     y0: {:.3f} ({:.3f})  y1: {:.3f} ({:.3f})\".format(np.mean(x0_list[:,7,:]), np.std(x0_list[:,7,:]), np.mean(x1_list[:,7,:]), np.std(x1_list[:,7,:])))\n",
    "print(\"Mean of cart_uv_1d:          y0: {:.3f} ({:.3f})  y1: {:.3f} ({:.3f})\".format(np.mean(x0_list[:,8,:]), np.std(x0_list[:,8,:]), np.mean(x1_list[:,8,:]), np.std(x1_list[:,8,:])))\n",
    "print(\"Mean of consume_uv_1d:       y0: {:.3f} ({:.3f})  y1: {:.3f} ({:.3f})\".format(np.mean(x0_list[:,9,:]), np.std(x0_list[:,9,:]), np.mean(x1_list[:,9,:]), np.std(x1_list[:,9,:])))\n",
    "\n",
    "# 发现：爆款的前30天，click, consume-valid, collect, attention, lead_shop, cart反而都更低\n",
    "# 只有favor, comment, share高"
   ],
   "metadata": {
    "collapsed": false,
    "pycharm": {
     "name": "#%%\n"
    }
   }
  },
  {
   "cell_type": "code",
   "execution_count": null,
   "outputs": [],
   "source": [],
   "metadata": {
    "collapsed": false,
    "pycharm": {
     "name": "#%%\n"
    }
   }
  }
 ],
 "metadata": {
  "kernelspec": {
   "display_name": "Python 3",
   "language": "python",
   "name": "python3"
  },
  "language_info": {
   "codemirror_mode": {
    "name": "ipython",
    "version": 3
   },
   "file_extension": ".py",
   "mimetype": "text/x-python",
   "name": "python",
   "nbconvert_exporter": "python",
   "pygments_lexer": "ipython3",
   "version": "3.9.7"
  }
 },
 "nbformat": 4,
 "nbformat_minor": 5
}