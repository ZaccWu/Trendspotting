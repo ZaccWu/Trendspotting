{
 "cells": [
  {
   "cell_type": "code",
   "execution_count": 1,
   "id": "1be7cf7e",
   "metadata": {},
   "outputs": [],
   "source": [
    "import pandas as pd\n",
    "import numpy as np\n",
    "import matplotlib.pyplot as plt"
   ]
  },
  {
   "cell_type": "markdown",
   "source": [
    "## Load Ali Data"
   ],
   "metadata": {
    "collapsed": false,
    "pycharm": {
     "name": "#%% md\n"
    }
   }
  },
  {
   "cell_type": "code",
   "execution_count": 3,
   "outputs": [
    {
     "name": "stdout",
     "output_type": "stream",
     "text": [
      "(9916, 97, 12)\n"
     ]
    }
   ],
   "source": [
    "dv = np.load('data/dv_count2.npy', allow_pickle=True)\n",
    "print(dv.shape)"
   ],
   "metadata": {
    "collapsed": false,
    "pycharm": {
     "name": "#%%\n"
    }
   }
  },
  {
   "cell_type": "code",
   "execution_count": 4,
   "outputs": [
    {
     "data": {
      "text/plain": "array([[['217617880515', '20230910', '70', ..., '14', '0', '46'],\n        ['217617880515', '20230808', '0', ..., '0', '0', '0'],\n        ['217617880515', '20230731', '0', ..., '0', '0', '0'],\n        ...,\n        ['217617880515', '20230629', '0', ..., '0', '0', '0'],\n        ['217617880515', '20230730', '0', ..., '0', '0', '0'],\n        ['217617880515', '20230712', '0', ..., '0', '0', '0']],\n\n       [['218304415675', '20230617', '0', ..., '0', '0', '27'],\n        ['218304415675', '20230729', '0', ..., '0', '0', '12'],\n        ['218304415675', '20230907', '0', ..., '0', '0', '13'],\n        ...,\n        ['218304415675', '20230827', '0', ..., '0', '0', '27'],\n        ['218304415675', '20230810', '0', ..., '0', '0', '21'],\n        ['218304415675', '20230917', '1', ..., '0', '0', '40']],\n\n       [['218598380456', '20230623', '0', ..., '0', '0', '4279'],\n        ['218598380456', '20230728', '0', ..., '0', '0', '11767'],\n        ['218598380456', '20230729', '3', ..., '2', '0', '10870'],\n        ...,\n        ['218598380456', '20230911', '0', ..., '0', '0', '139'],\n        ['218598380456', '20230701', '1', ..., '1', '0', '3325'],\n        ['218598380456', '20230812', '1', ..., '1', '0', '29']],\n\n       ...,\n\n       [['372750828120', '20230916', '6', ..., '4', '0', '36'],\n        ['372750828120', '20230911', '16', ..., '5', '0', '54'],\n        ['372750828120', '20230710', '19', ..., '16', '0', '96'],\n        ...,\n        ['372750828120', '20230915', '6', ..., '3', '1', '31'],\n        ['372750828120', '20230810', '38', ..., '13', '2', '67'],\n        ['372750828120', '20230726', '30', ..., '9', '1', '49']],\n\n       [['372750840321', '20230716', '8', ..., '3', '0', '97'],\n        ['372750840321', '20230619', '14', ..., '3', '0', '104'],\n        ['372750840321', '20230820', '23', ..., '4', '1', '183'],\n        ...,\n        ['372750840321', '20230703', '9', ..., '1', '0', '157'],\n        ['372750840321', '20230620', '12', ..., '2', '0', '111'],\n        ['372750840321', '20230812', '23', ..., '10', '2', '292']],\n\n       [['372751776786', '20230807', '25', ..., '4', '0', '24'],\n        ['372751776786', '20230624', '39', ..., '3', '0', '44'],\n        ['372751776786', '20230721', '31', ..., '1', '0', '32'],\n        ...,\n        ['372751776786', '20230709', '38', ..., '3', '0', '38'],\n        ['372751776786', '20230906', '0', ..., '0', '0', '0'],\n        ['372751776786', '20230825', '0', ..., '0', '0', '0']]],\n      dtype=object)"
     },
     "execution_count": 4,
     "metadata": {},
     "output_type": "execute_result"
    }
   ],
   "source": [
    "dv"
   ],
   "metadata": {
    "collapsed": false,
    "pycharm": {
     "name": "#%%\n"
    }
   }
  },
  {
   "cell_type": "code",
   "execution_count": 6,
   "outputs": [],
   "source": [
    "# accroding to 'consume_uv_1d' to define blockblusters\n",
    "num_content = dv.shape[0]\n",
    "x_list, y_list = [], []\n",
    "for j in range(num_content):\n",
    "    y = dv[j,:,:]\n",
    "    fea = y[np.argsort(y[:,1])][:,2:]  # (time_step, fea_dim), remove 'content_id', 'visite_time'\n",
    "    for day in range(30, 89):\n",
    "        fea = fea.astype(np.float64)\n",
    "        y_past = fea[day-3:day,-1]\n",
    "        y_head = fea[day:day+3,-1]\n",
    "        if np.sum(y_past)==0:\n",
    "            y = 0\n",
    "        else:\n",
    "            y = np.sum(y_head)/np.sum(y_past)\n",
    "        tr_fea = fea[day-30:day,:].T # -> (fea_dim, K)\n",
    "        y_inc = 0 if y<=2.21 else 1\n",
    "        x_list.append(tr_fea)\n",
    "        y_list.append(y_inc)\n",
    "\n",
    "x_list, y_list = np.array(x_list), np.array(y_list) # (585044, 10, 30), (585004, )"
   ],
   "metadata": {
    "collapsed": false,
    "pycharm": {
     "name": "#%%\n"
    }
   }
  },
  {
   "cell_type": "code",
   "execution_count": 7,
   "outputs": [
    {
     "name": "stdout",
     "output_type": "stream",
     "text": [
      "(16413, 10, 30) (568631, 10, 30)\n"
     ]
    }
   ],
   "source": [
    "t1_idx, t0_idx = np.nonzero(y_list), np.nonzero(1-y_list) # explosive, not explosive\n",
    "x1_list, x0_list = x_list[t1_idx], x_list[t0_idx]\n",
    "print(x1_list.shape, x0_list.shape)"
   ],
   "metadata": {
    "collapsed": false,
    "pycharm": {
     "name": "#%%\n"
    }
   }
  },
  {
   "cell_type": "markdown",
   "source": [
    "## Analyze the Basic Patterns of Blockbuster"
   ],
   "metadata": {
    "collapsed": false,
    "pycharm": {
     "name": "#%% md\n"
    }
   }
  },
  {
   "cell_type": "code",
   "execution_count": 12,
   "outputs": [
    {
     "name": "stdout",
     "output_type": "stream",
     "text": [
      "Mean of click_uv_1d:         y0: 17.002 (94.132)  y1: 11.495 (123.418)\n",
      "Mean of consume_uv_1d_valid: y0: 42.211 (534.310)  y1: 34.317 (631.915)\n",
      "Mean of favor_uv_1d:         y0: 0.372 (11.304)  y1: 0.887 (18.965)\n",
      "Mean of comment_uv_1d:       y0: 0.006 (0.164)  y1: 0.008 (0.302)\n",
      "Mean of share_uv_1d:         y0: 0.055 (0.740)  y1: 0.056 (1.310)\n",
      "Mean of collect_uv_1d:       y0: 0.138 (1.219)  y1: 0.126 (1.829)\n",
      "Mean of attention_uv_1d:     y0: 0.063 (0.813)  y1: 0.055 (1.299)\n",
      "Mean of lead_shop_uv_1d:     y0: 6.409 (28.884)  y1: 2.816 (13.789)\n",
      "Mean of cart_uv_1d:          y0: 0.695 (3.233)  y1: 0.274 (1.635)\n",
      "Mean of consume_uv_1d:       y0: 72.307 (1008.339)  y1: 61.410 (1176.040)\n"
     ]
    }
   ],
   "source": [
    "# 10 columns: ['click_uv_1d', 'consume_uv_1d_valid', 'favor_uv_1d', 'comment_uv_1d',\n",
    "#           'share_uv_1d', 'collect_uv_1d', 'attention_uv_1d', 'lead_shop_uv_1d', 'cart_uv_1d', 'consume_uv_1d']\n",
    "\n",
    "# sample averages (all samples in 30 day time window) y=1 vs. y=0\n",
    "print(\"Mean of click_uv_1d:         y0: {:.3f} ({:.3f})  y1: {:.3f} ({:.3f})\".format(np.mean(x0_list[:,0,:]), np.std(x0_list[:,0,:]), np.mean(x1_list[:,0,:]), np.std(x1_list[:,0,:])))\n",
    "print(\"Mean of consume_uv_1d_valid: y0: {:.3f} ({:.3f})  y1: {:.3f} ({:.3f})\".format(np.mean(x0_list[:,1,:]), np.std(x0_list[:,1,:]), np.mean(x1_list[:,1,:]), np.std(x1_list[:,1,:])))\n",
    "print(\"Mean of favor_uv_1d:         y0: {:.3f} ({:.3f})  y1: {:.3f} ({:.3f})\".format(np.mean(x0_list[:,2,:]), np.std(x0_list[:,2,:]), np.mean(x1_list[:,2,:]), np.std(x1_list[:,2,:])))\n",
    "print(\"Mean of comment_uv_1d:       y0: {:.3f} ({:.3f})  y1: {:.3f} ({:.3f})\".format(np.mean(x0_list[:,3,:]), np.std(x0_list[:,3,:]), np.mean(x1_list[:,3,:]), np.std(x1_list[:,3,:])))\n",
    "print(\"Mean of share_uv_1d:         y0: {:.3f} ({:.3f})  y1: {:.3f} ({:.3f})\".format(np.mean(x0_list[:,4,:]), np.std(x0_list[:,4,:]), np.mean(x1_list[:,4,:]), np.std(x1_list[:,4,:])))\n",
    "print(\"Mean of collect_uv_1d:       y0: {:.3f} ({:.3f})  y1: {:.3f} ({:.3f})\".format(np.mean(x0_list[:,5,:]), np.std(x0_list[:,5,:]), np.mean(x1_list[:,5,:]), np.std(x1_list[:,5,:])))\n",
    "print(\"Mean of attention_uv_1d:     y0: {:.3f} ({:.3f})  y1: {:.3f} ({:.3f})\".format(np.mean(x0_list[:,6,:]), np.std(x0_list[:,6,:]), np.mean(x1_list[:,6,:]), np.std(x1_list[:,6,:])))\n",
    "print(\"Mean of lead_shop_uv_1d:     y0: {:.3f} ({:.3f})  y1: {:.3f} ({:.3f})\".format(np.mean(x0_list[:,7,:]), np.std(x0_list[:,7,:]), np.mean(x1_list[:,7,:]), np.std(x1_list[:,7,:])))\n",
    "print(\"Mean of cart_uv_1d:          y0: {:.3f} ({:.3f})  y1: {:.3f} ({:.3f})\".format(np.mean(x0_list[:,8,:]), np.std(x0_list[:,8,:]), np.mean(x1_list[:,8,:]), np.std(x1_list[:,8,:])))\n",
    "print(\"Mean of consume_uv_1d:       y0: {:.3f} ({:.3f})  y1: {:.3f} ({:.3f})\".format(np.mean(x0_list[:,9,:]), np.std(x0_list[:,9,:]), np.mean(x1_list[:,9,:]), np.std(x1_list[:,9,:])))\n",
    "\n",
    "# 发现：爆款的前30天，click, consume-valid, collect, attention, lead_shop, cart反而都更低\n",
    "# 只有favor, comment, share高"
   ],
   "metadata": {
    "collapsed": false,
    "pycharm": {
     "name": "#%%\n"
    }
   }
  },
  {
   "cell_type": "code",
   "execution_count": 42,
   "outputs": [],
   "source": [
    "from sklearn.metrics.pairwise import pairwise_distances\n",
    "\n",
    "# 抽样，定性分析多变量构成的Correlation Graph\n",
    "indices_1 = np.random.choice(x1_list.shape[0], size=500, replace=False)  # 不放回抽样\n",
    "indices_0 = np.random.choice(x0_list.shape[0], size=5000, replace=False)  # 不放回抽样\n",
    "sampled_1, sampled_0 = x1_list[indices_1], x0_list[indices_0]\n",
    "\n",
    "def normalize_feature(fea):\n",
    "    # 这里是对每个样本自身不同维度进行规范化\n",
    "    for feature_idx in range(10): # 10 features\n",
    "        feature_data = fea[:, feature_idx]\n",
    "        min_val = feature_data.min()\n",
    "        max_val = feature_data.max()\n",
    "        if max_val == 0:\n",
    "            fea[:, feature_idx] = 0\n",
    "            continue\n",
    "        fea[:, feature_idx] = (feature_data - min_val) / (max_val - min_val)\n",
    "    return fea\n",
    "\n",
    "def cal_corr_list(x1_list, x0_list):\n",
    "    corrMat1, corrMat0 = [], []\n",
    "    for i in range(len(x1_list)):\n",
    "        s1 = x1_list[i]\n",
    "        s1_norm = normalize_feature(s1)\n",
    "        wA1 = 1-pairwise_distances(s1_norm[:,:],metric='correlation') # [-1,1] means correlation\n",
    "        wA1 = np.nan_to_num(wA1, nan=0)\n",
    "        corrMat1.append(wA1)\n",
    "    for i in range(len(x0_list)):\n",
    "        s0 = x0_list[i]\n",
    "        s0_norm = normalize_feature(s0)\n",
    "        wA0 = 1-pairwise_distances(s0_norm[:,:],metric='correlation') # [-1,1] means correlation\n",
    "        wA0 = np.nan_to_num(wA0, nan=0)\n",
    "        corrMat0.append(wA0)\n",
    "    return corrMat1, corrMat0\n",
    "\n",
    "# subsamples\n",
    "# corrMat1, corrMat0 = cal_corr_list(sampled_1, sampled_0)\n",
    "# full samples\n",
    "corrMat1, corrMat0 = cal_corr_list(x1_list, x0_list)"
   ],
   "metadata": {
    "collapsed": false,
    "pycharm": {
     "name": "#%%\n"
    }
   }
  },
  {
   "cell_type": "code",
   "execution_count": 43,
   "outputs": [],
   "source": [
    "# average correlations in different dimensions\n",
    "aveCorr1, aveCorr0 = np.zeros((10, 10)), np.zeros((10, 10))\n",
    "rows, cols = np.triu_indices(10, k=1)\n",
    "for i in range(len(corrMat1)):\n",
    "    for j, (r, c) in enumerate(zip(rows, cols)):\n",
    "        aveCorr1[r][c] += corrMat1[i][r][c]\n",
    "for i in range(len(corrMat0)):\n",
    "    for j, (r, c) in enumerate(zip(rows, cols)):\n",
    "        aveCorr0[r][c] += corrMat0[i][r][c]\n",
    "aveCorr1, aveCorr0 = aveCorr1/len(corrMat1), aveCorr0/len(corrMat0)"
   ],
   "metadata": {
    "collapsed": false,
    "pycharm": {
     "name": "#%%\n"
    }
   }
  },
  {
   "cell_type": "code",
   "execution_count": 44,
   "outputs": [
    {
     "data": {
      "text/plain": "array([[0.        , 0.54956405, 0.09749746, 0.01241448, 0.0396836 ,\n        0.07933969, 0.04767177, 0.43582127, 0.1785601 , 0.54732526],\n       [0.        , 0.        , 0.11072547, 0.01412491, 0.046217  ,\n        0.07907298, 0.04931651, 0.4721694 , 0.18137603, 0.84423149],\n       [0.        , 0.        , 0.        , 0.01244578, 0.03827929,\n        0.08434747, 0.0453221 , 0.06950555, 0.0414652 , 0.10682752],\n       [0.        , 0.        , 0.        , 0.        , 0.00733358,\n        0.01073942, 0.0086346 , 0.00678551, 0.00543121, 0.01309953],\n       [0.        , 0.        , 0.        , 0.        , 0.        ,\n        0.03391282, 0.02618659, 0.03049643, 0.0202372 , 0.04347403],\n       [0.        , 0.        , 0.        , 0.        , 0.        ,\n        0.        , 0.04351453, 0.0590104 , 0.04098243, 0.07283113],\n       [0.        , 0.        , 0.        , 0.        , 0.        ,\n        0.        , 0.        , 0.03925607, 0.02741493, 0.04547211],\n       [0.        , 0.        , 0.        , 0.        , 0.        ,\n        0.        , 0.        , 0.        , 0.28042458, 0.44827057],\n       [0.        , 0.        , 0.        , 0.        , 0.        ,\n        0.        , 0.        , 0.        , 0.        , 0.16872262],\n       [0.        , 0.        , 0.        , 0.        , 0.        ,\n        0.        , 0.        , 0.        , 0.        , 0.        ]])"
     },
     "execution_count": 44,
     "metadata": {},
     "output_type": "execute_result"
    }
   ],
   "source": [
    "aveCorr1"
   ],
   "metadata": {
    "collapsed": false,
    "pycharm": {
     "name": "#%%\n"
    }
   }
  },
  {
   "cell_type": "code",
   "execution_count": 45,
   "outputs": [
    {
     "data": {
      "text/plain": "array([[0.        , 0.61299389, 0.0960465 , 0.00774306, 0.04156953,\n        0.0871646 , 0.0516838 , 0.5117284 , 0.24111982, 0.61597716],\n       [0.        , 0.        , 0.11168674, 0.00876824, 0.04948263,\n        0.09637311, 0.0568111 , 0.58913078, 0.27749999, 0.85043752],\n       [0.        , 0.        , 0.        , 0.00733631, 0.03342553,\n        0.08945084, 0.04234208, 0.08718971, 0.0567811 , 0.10918652],\n       [0.        , 0.        , 0.        , 0.        , 0.00414649,\n        0.00573003, 0.0055318 , 0.00604217, 0.00385491, 0.00831839],\n       [0.        , 0.        , 0.        , 0.        , 0.        ,\n        0.03239426, 0.02339847, 0.03929883, 0.02750344, 0.04704758],\n       [0.        , 0.        , 0.        , 0.        , 0.        ,\n        0.        , 0.04015044, 0.07997543, 0.05256873, 0.09251727],\n       [0.        , 0.        , 0.        , 0.        , 0.        ,\n        0.        , 0.        , 0.04993556, 0.03468571, 0.05408537],\n       [0.        , 0.        , 0.        , 0.        , 0.        ,\n        0.        , 0.        , 0.        , 0.35338769, 0.57580803],\n       [0.        , 0.        , 0.        , 0.        , 0.        ,\n        0.        , 0.        , 0.        , 0.        , 0.26963203],\n       [0.        , 0.        , 0.        , 0.        , 0.        ,\n        0.        , 0.        , 0.        , 0.        , 0.        ]])"
     },
     "execution_count": 45,
     "metadata": {},
     "output_type": "execute_result"
    }
   ],
   "source": [
    "aveCorr0"
   ],
   "metadata": {
    "collapsed": false,
    "pycharm": {
     "name": "#%%\n"
    }
   }
  }
 ],
 "metadata": {
  "kernelspec": {
   "display_name": "Python 3",
   "language": "python",
   "name": "python3"
  },
  "language_info": {
   "codemirror_mode": {
    "name": "ipython",
    "version": 3
   },
   "file_extension": ".py",
   "mimetype": "text/x-python",
   "name": "python",
   "nbconvert_exporter": "python",
   "pygments_lexer": "ipython3",
   "version": "3.9.7"
  }
 },
 "nbformat": 4,
 "nbformat_minor": 5
}